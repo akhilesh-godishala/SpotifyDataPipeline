{
 "cells": [
  {
   "cell_type": "code",
   "execution_count": 1,
   "id": "ffc013bf",
   "metadata": {},
   "outputs": [
    {
     "name": "stdout",
     "output_type": "stream",
     "text": [
      "Collecting spotipy\n",
      "  Downloading spotipy-2.23.0-py3-none-any.whl (29 kB)\n",
      "Requirement already satisfied: requests>=2.25.0 in /Users/akhileshgodishala/opt/anaconda3/lib/python3.9/site-packages (from spotipy) (2.26.0)\n",
      "Requirement already satisfied: six>=1.15.0 in /Users/akhileshgodishala/opt/anaconda3/lib/python3.9/site-packages (from spotipy) (1.16.0)\n",
      "Requirement already satisfied: urllib3>=1.26.0 in /Users/akhileshgodishala/opt/anaconda3/lib/python3.9/site-packages (from spotipy) (1.26.7)\n",
      "Collecting redis>=3.5.3\n",
      "  Downloading redis-5.0.2-py3-none-any.whl (251 kB)\n",
      "\u001b[K     |████████████████████████████████| 251 kB 2.5 MB/s eta 0:00:01\n",
      "\u001b[?25hCollecting async-timeout>=4.0.3\n",
      "  Downloading async_timeout-4.0.3-py3-none-any.whl (5.7 kB)\n",
      "Requirement already satisfied: idna<4,>=2.5 in /Users/akhileshgodishala/opt/anaconda3/lib/python3.9/site-packages (from requests>=2.25.0->spotipy) (3.2)\n",
      "Requirement already satisfied: charset-normalizer~=2.0.0 in /Users/akhileshgodishala/opt/anaconda3/lib/python3.9/site-packages (from requests>=2.25.0->spotipy) (2.0.4)\n",
      "Requirement already satisfied: certifi>=2017.4.17 in /Users/akhileshgodishala/opt/anaconda3/lib/python3.9/site-packages (from requests>=2.25.0->spotipy) (2021.10.8)\n",
      "Installing collected packages: async-timeout, redis, spotipy\n",
      "Successfully installed async-timeout-4.0.3 redis-5.0.2 spotipy-2.23.0\n"
     ]
    }
   ],
   "source": [
    "!pip install spotipy"
   ]
  },
  {
   "cell_type": "code",
   "execution_count": 2,
   "id": "717dfbe2",
   "metadata": {},
   "outputs": [],
   "source": [
    "#importing spotipy library\n",
    "import spotipy\n",
    "from spotipy.oauth2 import SpotifyClientCredentials"
   ]
  },
  {
   "cell_type": "code",
   "execution_count": 3,
   "id": "1872b5b4",
   "metadata": {},
   "outputs": [],
   "source": [
    "#provide credentials for authorization to the API\n",
    "client_credentials_manager = SpotifyClientCredentials(client_id=\"81b5b09a77134e959078813b055ceeaf\", client_secret=\"85a6657a9e054a4daacf83bc6c7329e0\")"
   ]
  },
  {
   "cell_type": "code",
   "execution_count": 4,
   "id": "0c4c9db7",
   "metadata": {},
   "outputs": [],
   "source": [
    "#create an access variable to spotify\n",
    "sp = spotipy.Spotify(client_credentials_manager = client_credentials_manager)"
   ]
  },
  {
   "cell_type": "code",
   "execution_count": 5,
   "id": "b6a89480",
   "metadata": {},
   "outputs": [],
   "source": [
    "#choose a playlist URL\n",
    "playlist_link=\"https://open.spotify.com/playlist/37i9dQZEVXbLZ52XmnySJg\""
   ]
  },
  {
   "cell_type": "code",
   "execution_count": 10,
   "id": "61562c6d",
   "metadata": {},
   "outputs": [],
   "source": [
    "#Getting the URI from URL\n",
    "playlist_URI=playlist_link.split('/')[-1]"
   ]
  },
  {
   "cell_type": "code",
   "execution_count": 12,
   "id": "df9ea034",
   "metadata": {},
   "outputs": [],
   "source": [
    "#getting all the info from spotify and storing in a variable\n",
    "data=sp.playlist_tracks(playlist_URI)"
   ]
  },
  {
   "cell_type": "code",
   "execution_count": 19,
   "id": "1eb0e397",
   "metadata": {},
   "outputs": [
    {
     "data": {
      "text/plain": [
       "50"
      ]
     },
     "execution_count": 19,
     "metadata": {},
     "output_type": "execute_result"
    }
   ],
   "source": [
    "len(data['items'])"
   ]
  },
  {
   "cell_type": "code",
   "execution_count": 44,
   "id": "4b03d3e7",
   "metadata": {},
   "outputs": [
    {
     "data": {
      "text/plain": [
       "'0a183xiCHiC1GQd8ou7WXO'"
      ]
     },
     "execution_count": 44,
     "metadata": {},
     "output_type": "execute_result"
    }
   ],
   "source": [
    "#extracting required info from each album\n",
    "data['items'][0]['track']['album']['id']"
   ]
  },
  {
   "cell_type": "code",
   "execution_count": 60,
   "id": "e5cd6f1f",
   "metadata": {},
   "outputs": [
    {
     "data": {
      "text/plain": [
       "'Satranga (From \"ANIMAL\")'"
      ]
     },
     "execution_count": 60,
     "metadata": {},
     "output_type": "execute_result"
    }
   ],
   "source": [
    "data['items'][2]['track']['name']"
   ]
  },
  {
   "cell_type": "code",
   "execution_count": 45,
   "id": "1abf805c",
   "metadata": {},
   "outputs": [
    {
     "data": {
      "text/plain": [
       "'ANIMAL'"
      ]
     },
     "execution_count": 45,
     "metadata": {},
     "output_type": "execute_result"
    }
   ],
   "source": [
    "data['items'][0]['track']['album']['name']"
   ]
  },
  {
   "cell_type": "code",
   "execution_count": 46,
   "id": "7a94d5e3",
   "metadata": {},
   "outputs": [
    {
     "data": {
      "text/plain": [
       "'2023-11-24'"
      ]
     },
     "execution_count": 46,
     "metadata": {},
     "output_type": "execute_result"
    }
   ],
   "source": [
    "data['items'][0]['track']['album']['release_date']"
   ]
  },
  {
   "cell_type": "code",
   "execution_count": 47,
   "id": "cb6b66ef",
   "metadata": {},
   "outputs": [
    {
     "data": {
      "text/plain": [
       "8"
      ]
     },
     "execution_count": 47,
     "metadata": {},
     "output_type": "execute_result"
    }
   ],
   "source": [
    "data['items'][0]['track']['album']['total_tracks']"
   ]
  },
  {
   "cell_type": "code",
   "execution_count": 48,
   "id": "a50204e9",
   "metadata": {},
   "outputs": [
    {
     "data": {
      "text/plain": [
       "'https://open.spotify.com/album/0a183xiCHiC1GQd8ou7WXO'"
      ]
     },
     "execution_count": 48,
     "metadata": {},
     "output_type": "execute_result"
    }
   ],
   "source": [
    "data['items'][0]['track']['album']['external_urls']['spotify']"
   ]
  },
  {
   "cell_type": "code",
   "execution_count": 49,
   "id": "defa028b",
   "metadata": {},
   "outputs": [
    {
     "data": {
      "text/plain": [
       "'Husn'"
      ]
     },
     "execution_count": 49,
     "metadata": {},
     "output_type": "execute_result"
    }
   ],
   "source": [
    "data['items'][1]['track']['album']['name']"
   ]
  },
  {
   "cell_type": "code",
   "execution_count": 50,
   "id": "2814df81",
   "metadata": {},
   "outputs": [
    {
     "data": {
      "text/plain": [
       "1"
      ]
     },
     "execution_count": 50,
     "metadata": {},
     "output_type": "execute_result"
    }
   ],
   "source": [
    "data['items'][1]['track']['album']['total_tracks']"
   ]
  },
  {
   "cell_type": "code",
   "execution_count": 63,
   "id": "b94de632",
   "metadata": {},
   "outputs": [],
   "source": [
    "#now we have transformed the data and extracted required fields for each song of the playlist\n",
    "album_list = []\n",
    "for row in data['items']:\n",
    "    album_id = row['track']['album']['id']\n",
    "    album_name = row['track']['name']\n",
    "    album_release_date = row['track']['album']['release_date']\n",
    "    album_total_tracks = row['track']['album']['total_tracks']\n",
    "    album_url = row['track']['album']['external_urls']['spotify']\n",
    "    album_element = {'album_id':album_id,'name':album_name,'release_date':album_release_date,\n",
    "                        'total_tracks':album_total_tracks,'url':album_url}\n",
    "    album_list.append(album_element)\n",
    "    "
   ]
  },
  {
   "cell_type": "code",
   "execution_count": 64,
   "id": "70325821",
   "metadata": {},
   "outputs": [
    {
     "data": {
      "text/plain": [
       "[{'album_id': '0a183xiCHiC1GQd8ou7WXO',\n",
       "  'name': 'Pehle Bhi Main',\n",
       "  'release_date': '2023-11-24',\n",
       "  'total_tracks': 8,\n",
       "  'url': 'https://open.spotify.com/album/0a183xiCHiC1GQd8ou7WXO'},\n",
       " {'album_id': '2SarxpD48O1DOiDIccyZ0W',\n",
       "  'name': 'Husn',\n",
       "  'release_date': '2023-12-01',\n",
       "  'total_tracks': 1,\n",
       "  'url': 'https://open.spotify.com/album/2SarxpD48O1DOiDIccyZ0W'},\n",
       " {'album_id': '5mZX4EMwEyohNmVfLTDtXn',\n",
       "  'name': 'Satranga (From \"ANIMAL\")',\n",
       "  'release_date': '2023-10-27',\n",
       "  'total_tracks': 1,\n",
       "  'url': 'https://open.spotify.com/album/5mZX4EMwEyohNmVfLTDtXn'},\n",
       " {'album_id': '1VZDqgb1ALde0CFMIvEGNr',\n",
       "  'name': 'Akhiyaan Gulaab (From \"Teri Baaton Mein Aisa Uljha Jiya\")',\n",
       "  'release_date': '2024-01-19',\n",
       "  'total_tracks': 1,\n",
       "  'url': 'https://open.spotify.com/album/1VZDqgb1ALde0CFMIvEGNr'},\n",
       " {'album_id': '6mOSDGo8ZREISAbaiTMW5J',\n",
       "  'name': 'O Maahi',\n",
       "  'release_date': '2023-12-20',\n",
       "  'total_tracks': 8,\n",
       "  'url': 'https://open.spotify.com/album/6mOSDGo8ZREISAbaiTMW5J'},\n",
       " {'album_id': '73vfz6Szer7i3GFIesix6l',\n",
       "  'name': 'Tu hai kahan',\n",
       "  'release_date': '2023-10-16',\n",
       "  'total_tracks': 1,\n",
       "  'url': 'https://open.spotify.com/album/73vfz6Szer7i3GFIesix6l'},\n",
       " {'album_id': '3WLJmMZUeDOuERFAk1Mxs6',\n",
       "  'name': 'Chaleya',\n",
       "  'release_date': '2023-09-05',\n",
       "  'total_tracks': 7,\n",
       "  'url': 'https://open.spotify.com/album/3WLJmMZUeDOuERFAk1Mxs6'},\n",
       " {'album_id': '1kqsloJJsGKKKiWhinel6F',\n",
       "  'name': 'Katchi Sera - From \"Think Indie\"',\n",
       "  'release_date': '2024-01-22',\n",
       "  'total_tracks': 1,\n",
       "  'url': 'https://open.spotify.com/album/1kqsloJJsGKKKiWhinel6F'},\n",
       " {'album_id': '3tNH9Fp4dm3qa3Kr4cv5uJ',\n",
       "  'name': 'One Love',\n",
       "  'release_date': '2023-08-18',\n",
       "  'total_tracks': 1,\n",
       "  'url': 'https://open.spotify.com/album/3tNH9Fp4dm3qa3Kr4cv5uJ'},\n",
       " {'album_id': '1wt2WZBZZ9GhM0AC61l7SS',\n",
       "  'name': 'Heeriye (feat. Arijit Singh)',\n",
       "  'release_date': '2023-07-25',\n",
       "  'total_tracks': 1,\n",
       "  'url': 'https://open.spotify.com/album/1wt2WZBZZ9GhM0AC61l7SS'},\n",
       " {'album_id': '6ViHWV1ADObbcYBF7Aq1B5',\n",
       "  'name': 'Ve Haaniyaan',\n",
       "  'release_date': '2024-01-19',\n",
       "  'total_tracks': 1,\n",
       "  'url': 'https://open.spotify.com/album/6ViHWV1ADObbcYBF7Aq1B5'},\n",
       " {'album_id': '0YCrtSmwjwU1tp5dXtasCJ',\n",
       "  'name': 'Teri Baaton Mein Aisa Uljha Jiya Title Song (From \"Teri Baaton Mein Aisa Uljha Jiya\")',\n",
       "  'release_date': '2024-01-29',\n",
       "  'total_tracks': 1,\n",
       "  'url': 'https://open.spotify.com/album/0YCrtSmwjwU1tp5dXtasCJ'},\n",
       " {'album_id': '1pw0xzpe4O0OMohBwau50L',\n",
       "  'name': 'Apna Bana Le',\n",
       "  'release_date': '2022-12-06',\n",
       "  'total_tracks': 5,\n",
       "  'url': 'https://open.spotify.com/album/1pw0xzpe4O0OMohBwau50L'},\n",
       " {'album_id': '1h0Yw7Wm49GGiGpN2gd3o2',\n",
       "  'name': 'King Shit',\n",
       "  'release_date': '2024-01-05',\n",
       "  'total_tracks': 4,\n",
       "  'url': 'https://open.spotify.com/album/1h0Yw7Wm49GGiGpN2gd3o2'},\n",
       " {'album_id': '6DCDw6OlKLmVlVrp9J6YWD',\n",
       "  'name': 'Sadqay',\n",
       "  'release_date': '2024-02-01',\n",
       "  'total_tracks': 1,\n",
       "  'url': 'https://open.spotify.com/album/6DCDw6OlKLmVlVrp9J6YWD'},\n",
       " {'album_id': '5AivaZj0CiQJoDWqVH2pbh',\n",
       "  'name': 'Cheques',\n",
       "  'release_date': '2023-05-19',\n",
       "  'total_tracks': 7,\n",
       "  'url': 'https://open.spotify.com/album/5AivaZj0CiQJoDWqVH2pbh'},\n",
       " {'album_id': '5ITQeRYoVu4qRdo9TUTuuR',\n",
       "  'name': '9:45',\n",
       "  'release_date': '2023-03-10',\n",
       "  'total_tracks': 1,\n",
       "  'url': 'https://open.spotify.com/album/5ITQeRYoVu4qRdo9TUTuuR'},\n",
       " {'album_id': '4pfx72zSpnKIr6ADPN3htn',\n",
       "  'name': 'Marham (Pehle Bhi Main) [From \"ANIMAL\"]',\n",
       "  'release_date': '2023-12-23',\n",
       "  'total_tracks': 1,\n",
       "  'url': 'https://open.spotify.com/album/4pfx72zSpnKIr6ADPN3htn'},\n",
       " {'album_id': '0YzF0ImdBeODiCWejSDndM',\n",
       "  'name': 'Mahiye Jinna Sohna',\n",
       "  'release_date': '2023-08-09',\n",
       "  'total_tracks': 9,\n",
       "  'url': 'https://open.spotify.com/album/0YzF0ImdBeODiCWejSDndM'},\n",
       " {'album_id': '0kZKLq2WZQWvXvbxvK6YoC',\n",
       "  'name': 'Janiye (from the Netflix Film \"Chor Nikal Ke Bhaga\")',\n",
       "  'release_date': '2023-03-17',\n",
       "  'total_tracks': 1,\n",
       "  'url': 'https://open.spotify.com/album/0kZKLq2WZQWvXvbxvK6YoC'},\n",
       " {'album_id': '0YzF0ImdBeODiCWejSDndM',\n",
       "  'name': 'Mannat',\n",
       "  'release_date': '2023-08-09',\n",
       "  'total_tracks': 9,\n",
       "  'url': 'https://open.spotify.com/album/0YzF0ImdBeODiCWejSDndM'},\n",
       " {'album_id': '0a183xiCHiC1GQd8ou7WXO',\n",
       "  'name': 'Saari Duniya Jalaa Denge',\n",
       "  'release_date': '2023-11-24',\n",
       "  'total_tracks': 8,\n",
       "  'url': 'https://open.spotify.com/album/0a183xiCHiC1GQd8ou7WXO'},\n",
       " {'album_id': '0a183xiCHiC1GQd8ou7WXO',\n",
       "  'name': 'Arjan Vailly',\n",
       "  'release_date': '2023-11-24',\n",
       "  'total_tracks': 8,\n",
       "  'url': 'https://open.spotify.com/album/0a183xiCHiC1GQd8ou7WXO'},\n",
       " {'album_id': '3BGU0BqGwBkYDHpfCWFm7I',\n",
       "  'name': 'Softly',\n",
       "  'release_date': '2023-08-18',\n",
       "  'total_tracks': 9,\n",
       "  'url': 'https://open.spotify.com/album/3BGU0BqGwBkYDHpfCWFm7I'},\n",
       " {'album_id': '0VtFj2jJ3PosFrLHbE7TJX',\n",
       "  'name': 'Aam Jahe Munde',\n",
       "  'release_date': '2020-05-02',\n",
       "  'total_tracks': 1,\n",
       "  'url': 'https://open.spotify.com/album/0VtFj2jJ3PosFrLHbE7TJX'},\n",
       " {'album_id': '1N9rGbn2M9lzU6YcJ6081E',\n",
       "  'name': 'Manjha',\n",
       "  'release_date': '2020-03-17',\n",
       "  'total_tracks': 1,\n",
       "  'url': 'https://open.spotify.com/album/1N9rGbn2M9lzU6YcJ6081E'},\n",
       " {'album_id': '1d1FYLFpu2NITI6ilVaHDd',\n",
       "  'name': 'Kinni Kinni',\n",
       "  'release_date': '2023-09-29',\n",
       "  'total_tracks': 22,\n",
       "  'url': 'https://open.spotify.com/album/1d1FYLFpu2NITI6ilVaHDd'},\n",
       " {'album_id': '7khRLZe8P6XcUoRgOa3nnf',\n",
       "  'name': 'Malang Sajna',\n",
       "  'release_date': '2022-12-19',\n",
       "  'total_tracks': 1,\n",
       "  'url': 'https://open.spotify.com/album/7khRLZe8P6XcUoRgOa3nnf'},\n",
       " {'album_id': '4kIPlpwEZBK9JaI9pZHe79',\n",
       "  'name': 'Kesariya',\n",
       "  'release_date': '2022-10-06',\n",
       "  'total_tracks': 9,\n",
       "  'url': 'https://open.spotify.com/album/4kIPlpwEZBK9JaI9pZHe79'},\n",
       " {'album_id': '1ncyKqyZae6DoyjYaV9LmS',\n",
       "  'name': 'Kaise Hua (From \"Kabir Singh\")',\n",
       "  'release_date': '2019-06-13',\n",
       "  'total_tracks': 1,\n",
       "  'url': 'https://open.spotify.com/album/1ncyKqyZae6DoyjYaV9LmS'},\n",
       " {'album_id': '15CyNDuGY5fsG0Hn9rjnpG',\n",
       "  'name': 'Maan Meri Jaan',\n",
       "  'release_date': '2022-10-12',\n",
       "  'total_tracks': 8,\n",
       "  'url': 'https://open.spotify.com/album/15CyNDuGY5fsG0Hn9rjnpG'},\n",
       " {'album_id': '1h0Yw7Wm49GGiGpN2gd3o2',\n",
       "  'name': 'You and Me',\n",
       "  'release_date': '2024-01-05',\n",
       "  'total_tracks': 4,\n",
       "  'url': 'https://open.spotify.com/album/1h0Yw7Wm49GGiGpN2gd3o2'},\n",
       " {'album_id': '7F8VISoJUWFEY57b66QZxC',\n",
       "  'name': 'Hass Hass',\n",
       "  'release_date': '2023-10-26',\n",
       "  'total_tracks': 1,\n",
       "  'url': 'https://open.spotify.com/album/7F8VISoJUWFEY57b66QZxC'},\n",
       " {'album_id': '1Vkdf3mTQV4RakJBz0HbgT',\n",
       "  'name': 'Hua Main (From \"ANIMAL\")',\n",
       "  'release_date': '2023-10-11',\n",
       "  'total_tracks': 1,\n",
       "  'url': 'https://open.spotify.com/album/1Vkdf3mTQV4RakJBz0HbgT'},\n",
       " {'album_id': '7BE0KM7dc0f4MX6Kc6kCuN',\n",
       "  'name': 'Tum Kya Mile (From \"Rocky Aur Rani Kii Prem Kahaani\")',\n",
       "  'release_date': '2023-06-28',\n",
       "  'total_tracks': 1,\n",
       "  'url': 'https://open.spotify.com/album/7BE0KM7dc0f4MX6Kc6kCuN'},\n",
       " {'album_id': '7pFrr9ypVrxpZNF97YUQjK',\n",
       "  'name': 'Asal Mein',\n",
       "  'release_date': '2020-02-18',\n",
       "  'total_tracks': 1,\n",
       "  'url': 'https://open.spotify.com/album/7pFrr9ypVrxpZNF97YUQjK'},\n",
       " {'album_id': '5uAi4ZZc7zRdd6PsKNcJXO',\n",
       "  'name': 'Tere Pyaar Mein',\n",
       "  'release_date': '2023-02-01',\n",
       "  'total_tracks': 1,\n",
       "  'url': 'https://open.spotify.com/album/5uAi4ZZc7zRdd6PsKNcJXO'},\n",
       " {'album_id': '1skD49xUwXnHLMrlEKTo6j',\n",
       "  'name': 'Phir Aur Kya Chahiye (From \"Zara Hatke Zara Bachke\")',\n",
       "  'release_date': '2023-05-16',\n",
       "  'total_tracks': 1,\n",
       "  'url': 'https://open.spotify.com/album/1skD49xUwXnHLMrlEKTo6j'},\n",
       " {'album_id': '4OYdTHNgjhXzgVjbqsb0tO',\n",
       "  'name': 'Tum Se Hi',\n",
       "  'release_date': '2007-09-21',\n",
       "  'total_tracks': 10,\n",
       "  'url': 'https://open.spotify.com/album/4OYdTHNgjhXzgVjbqsb0tO'},\n",
       " {'album_id': '7xlh4JhUD65QX1HzN2guSX',\n",
       "  'name': 'Drippy',\n",
       "  'release_date': '2024-02-02',\n",
       "  'total_tracks': 1,\n",
       "  'url': 'https://open.spotify.com/album/7xlh4JhUD65QX1HzN2guSX'},\n",
       " {'album_id': '2cVWUv4cggX0CA17VwQkm0',\n",
       "  'name': 'Kurchi Madathapetti',\n",
       "  'release_date': '2024-01-26',\n",
       "  'total_tracks': 6,\n",
       "  'url': 'https://open.spotify.com/album/2cVWUv4cggX0CA17VwQkm0'},\n",
       " {'album_id': '1d1FYLFpu2NITI6ilVaHDd',\n",
       "  'name': 'Lalkara',\n",
       "  'release_date': '2023-09-29',\n",
       "  'total_tracks': 22,\n",
       "  'url': 'https://open.spotify.com/album/1d1FYLFpu2NITI6ilVaHDd'},\n",
       " {'album_id': '6BHlJhCk1vjCG6hqTG2SFV',\n",
       "  'name': 'Kahani Suno 2.0',\n",
       "  'release_date': '2022-05-31',\n",
       "  'total_tracks': 1,\n",
       "  'url': 'https://open.spotify.com/album/6BHlJhCk1vjCG6hqTG2SFV'},\n",
       " {'album_id': '74AG3N4OJWlJR19gRIEJyB',\n",
       "  'name': 'Love Ya',\n",
       "  'release_date': '2024-01-06',\n",
       "  'total_tracks': 1,\n",
       "  'url': 'https://open.spotify.com/album/74AG3N4OJWlJR19gRIEJyB'},\n",
       " {'album_id': '2ZkGpdiIY4jnHrmoEQrGGW',\n",
       "  'name': 'Saajan Ve',\n",
       "  'release_date': '2023-12-18',\n",
       "  'total_tracks': 1,\n",
       "  'url': 'https://open.spotify.com/album/2ZkGpdiIY4jnHrmoEQrGGW'},\n",
       " {'album_id': '6ygmcKWcYou8isVIdje83u',\n",
       "  'name': 'Koi Si',\n",
       "  'release_date': '2023-07-13',\n",
       "  'total_tracks': 1,\n",
       "  'url': 'https://open.spotify.com/album/6ygmcKWcYou8isVIdje83u'},\n",
       " {'album_id': '1i6h3Xs1qunoQAO7N2XHVg',\n",
       "  'name': 'Murder',\n",
       "  'release_date': '2022-10-21',\n",
       "  'total_tracks': 1,\n",
       "  'url': 'https://open.spotify.com/album/1i6h3Xs1qunoQAO7N2XHVg'},\n",
       " {'album_id': '5na4ciNJa3xQdvcjyUsyy5',\n",
       "  'name': 'Saanware',\n",
       "  'release_date': '2024-02-12',\n",
       "  'total_tracks': 1,\n",
       "  'url': 'https://open.spotify.com/album/5na4ciNJa3xQdvcjyUsyy5'},\n",
       " {'album_id': '3I8PdIhk6pNm8Kv0HiF14V',\n",
       "  'name': 'Tujhe Kitna Chahne Lage (From \"Kabir Singh\")',\n",
       "  'release_date': '2019-05-31',\n",
       "  'total_tracks': 1,\n",
       "  'url': 'https://open.spotify.com/album/3I8PdIhk6pNm8Kv0HiF14V'},\n",
       " {'album_id': '6AJaDEafyyyWWXHZQtcFGe',\n",
       "  'name': 'Chaand Baaliyan',\n",
       "  'release_date': '2020-03-28',\n",
       "  'total_tracks': 1,\n",
       "  'url': 'https://open.spotify.com/album/6AJaDEafyyyWWXHZQtcFGe'}]"
      ]
     },
     "execution_count": 64,
     "metadata": {},
     "output_type": "execute_result"
    }
   ],
   "source": [
    "album_list"
   ]
  },
  {
   "cell_type": "code",
   "execution_count": null,
   "id": "36173721",
   "metadata": {},
   "outputs": [],
   "source": []
  }
 ],
 "metadata": {
  "kernelspec": {
   "display_name": "Python 3 (ipykernel)",
   "language": "python",
   "name": "python3"
  },
  "language_info": {
   "codemirror_mode": {
    "name": "ipython",
    "version": 3
   },
   "file_extension": ".py",
   "mimetype": "text/x-python",
   "name": "python",
   "nbconvert_exporter": "python",
   "pygments_lexer": "ipython3",
   "version": "3.9.7"
  }
 },
 "nbformat": 4,
 "nbformat_minor": 5
}
